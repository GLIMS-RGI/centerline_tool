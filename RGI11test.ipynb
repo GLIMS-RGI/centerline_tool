{
 "cells": [
  {
   "cell_type": "markdown",
   "id": "b0fd06fb-1424-463c-aebc-d6299fdb3504",
   "metadata": {},
   "source": [
    "# Test to solve crs problem"
   ]
  },
  {
   "cell_type": "code",
   "execution_count": 1,
   "id": "84465c4d-f185-47e1-bb0c-b32e71719626",
   "metadata": {},
   "outputs": [],
   "source": [
    "import rioxarray as rio\n",
    "import os\n",
    "import geopandas as gpd"
   ]
  },
  {
   "cell_type": "markdown",
   "id": "9c7c7fc5-3ab5-4158-9c38-39f1fc1f67d8",
   "metadata": {},
   "source": [
    "## load data"
   ]
  },
  {
   "cell_type": "code",
   "execution_count": 2,
   "id": "bacf6992-8c71-4600-adba-8e09b117e985",
   "metadata": {},
   "outputs": [],
   "source": [
    "# RGI11\n",
    "data_path = \"./test_data/\"\n",
    "dem_file = 'dem.tif'\n",
    "shape_file = \"11_rgi60_CentralEurope.shp\""
   ]
  },
  {
   "cell_type": "markdown",
   "id": "0cf31fbf-61b4-4e71-9231-9143d6e1fa7e",
   "metadata": {},
   "source": [
    "## read DEM file"
   ]
  },
  {
   "cell_type": "code",
   "execution_count": 3,
   "id": "21122ad4-d3bf-472e-b785-b72f2fb7bb3c",
   "metadata": {},
   "outputs": [],
   "source": [
    "# read the geotiff (DEM) with rioxarray.\n",
    "dem_path = os.path.join(data_path, dem_file)\n",
    "dem = rio.open_rasterio(dem_path)"
   ]
  },
  {
   "cell_type": "markdown",
   "id": "fa49ffaa-6afc-4b26-b480-6f75ce7f9e2c",
   "metadata": {},
   "source": [
    "## read glacier outlines"
   ]
  },
  {
   "cell_type": "code",
   "execution_count": 4,
   "id": "2703a901-c5fb-4245-a6d5-18e854d9ceda",
   "metadata": {},
   "outputs": [],
   "source": [
    "outline = gpd.read_file(os.path.join(data_path, shape_file))"
   ]
  },
  {
   "cell_type": "markdown",
   "id": "aa5ee506-389c-4b51-bfdb-bc532bcbbac7",
   "metadata": {},
   "source": [
    "## Compare CRSs"
   ]
  },
  {
   "cell_type": "code",
   "execution_count": 13,
   "id": "63db2135-9a22-4bfa-8a61-3f2428a7d6b8",
   "metadata": {},
   "outputs": [],
   "source": [
    "aaa=outline.to_crs(dem.rio.crs)"
   ]
  },
  {
   "cell_type": "code",
   "execution_count": 15,
   "id": "f15a3002-1a6e-4020-b332-87e93631af88",
   "metadata": {},
   "outputs": [
    {
     "data": {
      "text/plain": [
       "<Derived Projected CRS: PROJCS[\"unnamed\",GEOGCS[\"WGS 84\",DATUM[\"WGS_1984\", ...>\n",
       "Name: unnamed\n",
       "Axis Info [cartesian]:\n",
       "- [east]: Easting (metre)\n",
       "- [north]: Northing (metre)\n",
       "Area of Use:\n",
       "- undefined\n",
       "Coordinate Operation:\n",
       "- name: unnamed\n",
       "- method: Transverse Mercator\n",
       "Datum: World Geodetic System 1984\n",
       "- Ellipsoid: WGS 84\n",
       "- Prime Meridian: Greenwich"
      ]
     },
     "execution_count": 15,
     "metadata": {},
     "output_type": "execute_result"
    }
   ],
   "source": [
    "aaa.crs"
   ]
  },
  {
   "cell_type": "code",
   "execution_count": 12,
   "id": "d6d962a6-34cf-4883-a2e8-04d02d2a7b67",
   "metadata": {},
   "outputs": [
    {
     "data": {
      "text/plain": [
       "<Geographic 2D CRS: EPSG:4326>\n",
       "Name: WGS 84\n",
       "Axis Info [ellipsoidal]:\n",
       "- Lat[north]: Geodetic latitude (degree)\n",
       "- Lon[east]: Geodetic longitude (degree)\n",
       "Area of Use:\n",
       "- name: World.\n",
       "- bounds: (-180.0, -90.0, 180.0, 90.0)\n",
       "Datum: World Geodetic System 1984 ensemble\n",
       "- Ellipsoid: WGS 84\n",
       "- Prime Meridian: Greenwich"
      ]
     },
     "execution_count": 12,
     "metadata": {},
     "output_type": "execute_result"
    }
   ],
   "source": [
    "outline.crs"
   ]
  },
  {
   "cell_type": "code",
   "execution_count": 8,
   "id": "3e5731f9-13a9-4e45-9d1d-36f179955019",
   "metadata": {},
   "outputs": [
    {
     "data": {
      "text/plain": [
       "CRS.from_wkt('PROJCS[\"unnamed\",GEOGCS[\"WGS 84\",DATUM[\"WGS_1984\",SPHEROID[\"WGS 84\",6378137,298.257223563,AUTHORITY[\"EPSG\",\"7030\"]],AUTHORITY[\"EPSG\",\"6326\"]],PRIMEM[\"Greenwich\",0],UNIT[\"degree\",0.0174532925199433,AUTHORITY[\"EPSG\",\"9122\"]],AUTHORITY[\"EPSG\",\"4326\"]],PROJECTION[\"Transverse_Mercator\"],PARAMETER[\"latitude_of_origin\",0],PARAMETER[\"central_meridian\",13.5987],PARAMETER[\"scale_factor\",0.9996],PARAMETER[\"false_easting\",0],PARAMETER[\"false_northing\",0],UNIT[\"metre\",1,AUTHORITY[\"EPSG\",\"9001\"]],AXIS[\"Easting\",EAST],AXIS[\"Northing\",NORTH]]')"
      ]
     },
     "execution_count": 8,
     "metadata": {},
     "output_type": "execute_result"
    }
   ],
   "source": [
    "dem.rio."
   ]
  },
  {
   "cell_type": "code",
   "execution_count": 10,
   "id": "2858053f-edd7-4d55-a31e-8da971356b33",
   "metadata": {},
   "outputs": [
    {
     "data": {
      "text/plain": [
       "rasterio.crs.CRS"
      ]
     },
     "execution_count": 10,
     "metadata": {},
     "output_type": "execute_result"
    }
   ],
   "source": [
    "type(dem.rio.crs)"
   ]
  }
 ],
 "metadata": {
  "kernelspec": {
   "display_name": "Python 3 (ipykernel)",
   "language": "python",
   "name": "python3"
  },
  "language_info": {
   "codemirror_mode": {
    "name": "ipython",
    "version": 3
   },
   "file_extension": ".py",
   "mimetype": "text/x-python",
   "name": "python",
   "nbconvert_exporter": "python",
   "pygments_lexer": "ipython3",
   "version": "3.8.12"
  }
 },
 "nbformat": 4,
 "nbformat_minor": 5
}
